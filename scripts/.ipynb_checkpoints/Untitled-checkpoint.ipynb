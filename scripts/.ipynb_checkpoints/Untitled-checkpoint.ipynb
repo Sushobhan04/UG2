{
 "cells": [
  {
   "cell_type": "code",
   "execution_count": 2,
   "metadata": {},
   "outputs": [],
   "source": [
    "%matplotlib inline\n",
    "import h5py\n",
    "import numpy as np\n",
    "import os\n",
    "from UG2.utils import data as data_utils\n",
    "from UG2.config import Config\n",
    "from UG2.models import srnet as net\n",
    "import matplotlib.pyplot as plt\n",
    "import torch\n",
    "import torch.nn as nn\n",
    "from torch.autograd import Variable\n",
    "import scipy.ndimage as im\n",
    "import time\n",
    "from UG2 import main\n",
    "import torchvision.models as models\n",
    "import json"
   ]
  },
  {
   "cell_type": "code",
   "execution_count": 3,
   "metadata": {},
   "outputs": [],
   "source": [
    "os.environ[\"CUDA_VISIBLE_DEVICES\"]=\"1\"\n",
    "\n",
    "repo_path = \"/home/susho/git/UG2/\"\n",
    "dataset_path = \"/data/UG2_data/datasets/BSD100_SR\"\n",
    "data_path = \"/data/UG2_data/\"\n",
    "results_path = repo_path + \"results\"\n",
    "UG2_dataset_path = \"/mnt/snagesh/ug2challenge/UG_dataset\"\n",
    "COCO_dataset_path = \"/mnt/snagesh/ug2challenge/MSCOCO\"\n",
    "imagenet_dataset_path = \"/data/imagenet\""
   ]
  },
  {
   "cell_type": "code",
   "execution_count": 4,
   "metadata": {},
   "outputs": [],
   "source": [
    "imagenet_file = [\"imagenet_val_32.h5\"]\n",
    "batch_size = 100\n",
    "vgg16 = net.classifier()\n"
   ]
  },
  {
   "cell_type": "code",
   "execution_count": 5,
   "metadata": {},
   "outputs": [],
   "source": [
    "batch_generator = data_utils.BatchGenerator(imagenet_file, batch_size = batch_size)"
   ]
  },
  {
   "cell_type": "code",
   "execution_count": 8,
   "metadata": {},
   "outputs": [],
   "source": [
    "for data, label in batch_generator:\n",
    "    inp = data_utils.convert_to_torch_variable(data)\n",
    "    inp = nn.Upsample(size = (3, 224, 244), mode = 'bilinear')(data)\n",
    "    \n",
    "    out = vgg16(inp)\n",
    "\n",
    "out = vgg16(inp)"
   ]
  },
  {
   "cell_type": "code",
   "execution_count": 9,
   "metadata": {},
   "outputs": [],
   "source": [
    "out = out.data.cpu().numpy()"
   ]
  },
  {
   "cell_type": "code",
   "execution_count": 9,
   "metadata": {},
   "outputs": [],
   "source": []
  },
  {
   "cell_type": "code",
   "execution_count": 6,
   "metadata": {},
   "outputs": [],
   "source": []
  },
  {
   "cell_type": "code",
   "execution_count": null,
   "metadata": {},
   "outputs": [],
   "source": []
  },
  {
   "cell_type": "code",
   "execution_count": null,
   "metadata": {},
   "outputs": [],
   "source": []
  }
 ],
 "metadata": {
  "kernelspec": {
   "display_name": "Python 3",
   "language": "python",
   "name": "python3"
  },
  "language_info": {
   "codemirror_mode": {
    "name": "ipython",
    "version": 3
   },
   "file_extension": ".py",
   "mimetype": "text/x-python",
   "name": "python",
   "nbconvert_exporter": "python",
   "pygments_lexer": "ipython3",
   "version": "3.6.4"
  }
 },
 "nbformat": 4,
 "nbformat_minor": 2
}
