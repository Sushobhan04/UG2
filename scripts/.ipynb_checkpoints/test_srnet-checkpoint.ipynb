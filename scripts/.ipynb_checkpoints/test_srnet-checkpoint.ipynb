{
 "cells": [
  {
   "cell_type": "code",
   "execution_count": 1,
   "metadata": {
    "collapsed": true
   },
   "outputs": [],
   "source": [
    "%matplotlib inline\n",
    "import h5py\n",
    "import numpy as np\n",
    "import os\n",
    "from UG2.models.srnet import SRNet\n",
    "from UG2.utils import data as data_utils\n",
    "from UG2.config import Config\n",
    "import matplotlib.pyplot as plt\n",
    "import torch\n",
    "import torch.nn as nn\n",
    "from torch.autograd import Variable\n",
    "import scipy.ndimage as im\n",
    "import time\n",
    "from UG2 import main\n",
    "import cv2"
   ]
  },
  {
   "cell_type": "code",
   "execution_count": 2,
   "metadata": {
    "collapsed": true
   },
   "outputs": [],
   "source": [
    "traindedModels_path  = \"/data/UG2_data/trainedModels/\"\n",
    "results_path         = \"/mnt/snagesh/ug2challenge/experimentResults/\""
   ]
  },
  {
   "cell_type": "code",
   "execution_count": 3,
   "metadata": {
    "collapsed": true
   },
   "outputs": [],
   "source": [
    "factor              = 2\n",
    "epochsList          = [700]\n",
    "learningRateList    = [0.001]\n",
    "testImages          = ['GroundWithShake','GliderWithShake','UAVWithShake']\n",
    "numberOfExperiments = len(epochsList)*len(learningRateList)*len(testImages)\n"
   ]
  },
  {
   "cell_type": "code",
   "execution_count": 4,
   "metadata": {},
   "outputs": [
    {
     "name": "stdout",
     "output_type": "stream",
     "text": [
      "Completed 1 out of 3\n",
      "Completed 2 out of 3\n",
      "Completed 3 out of 3\n"
     ]
    }
   ],
   "source": [
    "trainStartIndex = 0\n",
    "numberCompletedExperiments = 0\n",
    "config = Config()\n",
    "trainStartIndex = 0\n",
    "for i in range(trainStartIndex, len(epochsList)):\n",
    "    for nLR in learningRateList: \n",
    "        for testImageName in testImages:\n",
    "            config.cuda = True\n",
    "            config.data_parallel = True\n",
    "            config.model_path = traindedModels_path\n",
    "            config.model_name = \"modellrRate\"+str(nLR).replace(\".\",\"_\")+\"nEpochs\"+str(epochsList[i])+\".pth\"\n",
    "            print(config.model_name)\n",
    "            config.hist_eq = True\n",
    "            filename = results_path+\"/output\"+testImageName+\"lrRate\"+str(nLR).replace(\".\",\"_\")+\"nEpochs\"+str(epochsList[i-1])+\".png\"\n",
    "            \n",
    "            img_path = \"/mnt/snagesh/ug2challenge/performer-packet/evaluation-images/\"+testImageName+\".jpg\"\n",
    "            img = im.imread(img_path).astype(np.float32)/255.0\n",
    "            img = np.transpose(img, (2, 0, 1))\n",
    "            img = img[np.newaxis, :, :, :]\n",
    "            out = main.test_single(img, config)\n",
    "    \n",
    "            cv2.imwrite(filename, (np.transpose(out[0], (1, 2, 0))*255.0).astype(np.uint8))\n",
    "            numberCompletedExperiments = numberCompletedExperiments+1\n",
    "            print(\"Completed \"+str(numberCompletedExperiments)+\" out of \"+str(numberOfExperiments))"
   ]
  },
  {
   "cell_type": "code",
   "execution_count": null,
   "metadata": {
    "collapsed": true
   },
   "outputs": [],
   "source": []
  }
 ],
 "metadata": {
  "kernelspec": {
   "display_name": "Python 3",
   "language": "python",
   "name": "python3"
  },
  "language_info": {
   "codemirror_mode": {
    "name": "ipython",
    "version": 3
   },
   "file_extension": ".py",
   "mimetype": "text/x-python",
   "name": "python",
   "nbconvert_exporter": "python",
   "pygments_lexer": "ipython3",
   "version": "3.6.3"
  }
 },
 "nbformat": 4,
 "nbformat_minor": 2
}
