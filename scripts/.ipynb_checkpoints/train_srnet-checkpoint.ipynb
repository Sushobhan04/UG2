{
 "cells": [
  {
   "cell_type": "code",
   "execution_count": 1,
   "metadata": {
    "collapsed": true
   },
   "outputs": [],
   "source": [
    "%matplotlib inline\n",
    "import h5py\n",
    "import numpy as np\n",
    "import os\n",
    "from UG2.utils import data as data_utils\n",
    "from UG2.config import Config\n",
    "import matplotlib.pyplot as plt\n",
    "import torch\n",
    "import torch.nn as nn\n",
    "from torch.autograd import Variable\n",
    "import scipy.ndimage as im\n",
    "import time\n",
    "from UG2 import main"
   ]
  },
  {
   "cell_type": "code",
   "execution_count": 2,
   "metadata": {
    "collapsed": true
   },
   "outputs": [],
   "source": [
    "dataset_path         = \"/data/UG2_data/datasets/BSD100_SR\"\n",
    "data_path            = \"/data/UG2_data/\"\n",
    "traindedModels_path  = \"/data/UG2_data/trainedModels/\""
   ]
  },
  {
   "cell_type": "code",
   "execution_count": 3,
   "metadata": {
    "collapsed": true
   },
   "outputs": [],
   "source": [
    "## create dataset\n",
    "factor              = 2\n",
    "num_images          = 100\n",
    "patch_size          = np.array([64, 64])\n",
    "dataset_name        = \"BSD.h5\"\n",
    "epochsList          = [700]\n",
    "learningRateList    = [0.001]\n",
    "#numberTrainingKernel= [4]#, 10, 30, 50]\n",
    "numberOfExperiments = len(epochsList)*len(learningRateList)*len(gaussianSigma)*len(motionBlurSize)"
   ]
  },
  {
   "cell_type": "code",
   "execution_count": 5,
   "metadata": {},
   "outputs": [
    {
     "name": "stdout",
     "output_type": "stream",
     "text": [
      "time:  1.6567785739898682  Error:  0.343347554406\n",
      "saved checkpoint at epoch:  0\n",
      "time:  2.0543179512023926  Error:  0.178211510181\n",
      "saved checkpoint at epoch:  100\n",
      "time:  1.995304822921753  Error:  0.170170058807\n",
      "saved checkpoint at epoch:  200\n",
      "Model saved as:  modellrRate0_001nEpochs700.pth\n",
      "Completed 1 out of 4\n",
      "time:  1.6590023040771484  Error:  0.337878614664\n",
      "saved checkpoint at epoch:  0\n",
      "time:  1.9839503765106201  Error:  0.157417804003\n",
      "saved checkpoint at epoch:  100\n",
      "time:  1.9693050384521484  Error:  0.155931174755\n",
      "saved checkpoint at epoch:  200\n",
      "Model saved as:  modellrRate0_001nEpochs1000.pth\n",
      "Completed 2 out of 4\n"
     ]
    }
   ],
   "source": [
    "trainStartIndex = 2\n",
    "numberCompletedExperiments = 0\n",
    "for i in range(trainStartIndex, len(epochsList)):\n",
    "    for nLR in learningRateList:\n",
    "        #for nTK in numberTrainingKernel:\n",
    "        config = Config() \n",
    "        config.epochs = epochsList[i]\n",
    "        config.cuda = True\n",
    "        config.data_parallel = True\n",
    "        config.lr = nLR\n",
    "        config.train_files = [os.path.join(data_path, dataset_name)]\n",
    "        config.batch_size = 200\n",
    "        config.print_step = 100\n",
    "        config.checkpoint = 100\n",
    "        config.resume_training_flag = False\n",
    "#        config.nTK = nTK\n",
    "        if i:\n",
    "            config.epochs = epochsList[i]-epochsList[i-1]\n",
    "            config.resume_training_flag = True\n",
    "            config.resume_model_path = traindedModels_path\n",
    "            config.resume_model_name = \"modellrRate\"+str(nLR).replace(\".\",\"_\")+\"nEpochs\"+str(epochsList[i-1])+\".pth\"\n",
    "            \n",
    "        config.model_path = traindedModels_path\n",
    "        config.model_name = \"modellrRate\"+str(nLR).replace(\".\",\"_\")+\"nEpochs\"+str(epochsList[i])+\".pth\"\n",
    "        numberCompletedExperiments = numberCompletedExperiments+1\n",
    "        main.train(config)\n",
    "        \n",
    "        print(\"Completed \"+str(numberCompletedExperiments)+\" out of \"+str(numberOfExperiments))\n",
    "        "
   ]
  }
 ],
 "metadata": {
  "kernelspec": {
   "display_name": "Python 3",
   "language": "python",
   "name": "python3"
  },
  "language_info": {
   "codemirror_mode": {
    "name": "ipython",
    "version": 3
   },
   "file_extension": ".py",
   "mimetype": "text/x-python",
   "name": "python",
   "nbconvert_exporter": "python",
   "pygments_lexer": "ipython3",
   "version": "3.6.3"
  }
 },
 "nbformat": 4,
 "nbformat_minor": 2
}
