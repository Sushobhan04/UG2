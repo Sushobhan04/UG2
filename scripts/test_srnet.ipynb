{
 "cells": [
  {
   "cell_type": "code",
   "execution_count": 1,
   "metadata": {
    "collapsed": true
   },
   "outputs": [],
   "source": [
    "%matplotlib inline\n",
    "import h5py\n",
    "import numpy as np\n",
    "import os\n",
    "from UG2.models.srnet import SRNet\n",
    "from UG2.utils import data as data_utils\n",
    "from UG2.config import Config\n",
    "import matplotlib.pyplot as plt\n",
    "import torch\n",
    "import torch.nn as nn\n",
    "from torch.autograd import Variable\n",
    "import scipy.ndimage as im\n",
    "import time\n",
    "from UG2 import main\n",
    "import cv2"
   ]
  },
  {
   "cell_type": "code",
   "execution_count": 2,
   "metadata": {
    "collapsed": true
   },
   "outputs": [],
   "source": [
    "traindedModels_path  = \"/data/UG2_data/trainedModels/\"\n",
    "results_path         = \"/mnt/snagesh/ug2challenge/experimentResults/\"\n",
    "validation_data_path = \"/data/UG2_data/h5Files/\""
   ]
  },
  {
   "cell_type": "code",
   "execution_count": 3,
   "metadata": {
    "collapsed": true
   },
   "outputs": [],
   "source": [
    "factor                = 2\n",
    "epochsList            = [700]\n",
    "learningRateList      = [0.001]\n",
    "testImages            = ['GroundWithShake','GliderWithShake','UAVWithShake']\n",
    "numberOfExperiments   = len(epochsList)*len(learningRateList)*len(testImages)\n",
    "nTK                   = 4\n",
    "flags                 = [1, 1]\n",
    "validationDatasetName = \"BSDBlurred_nTK_\"+str(nTK)+ \"_flag_\" + \"_\".join([str(f) for f in flags])+\"testing\""
   ]
  },
  {
   "cell_type": "code",
   "execution_count": 4,
   "metadata": {
    "scrolled": true
   },
   "outputs": [
    {
     "name": "stdout",
     "output_type": "stream",
     "text": [
      "Using model: modellrRate0_001nEpochs700nTK4.pth\n"
     ]
    },
    {
     "ename": "TypeError",
     "evalue": "'type' object does not support item assignment",
     "output_type": "error",
     "traceback": [
      "\u001b[0;31m---------------------------------------------------------------------------\u001b[0m",
      "\u001b[0;31mTypeError\u001b[0m                                 Traceback (most recent call last)",
      "\u001b[0;32m<ipython-input-4-ef6ea30ad2dd>\u001b[0m in \u001b[0;36m<module>\u001b[0;34m()\u001b[0m\n\u001b[1;32m     18\u001b[0m             \u001b[0mimg\u001b[0m \u001b[0;34m=\u001b[0m \u001b[0mnp\u001b[0m\u001b[0;34m.\u001b[0m\u001b[0mtranspose\u001b[0m\u001b[0;34m(\u001b[0m\u001b[0mimg\u001b[0m\u001b[0;34m,\u001b[0m \u001b[0;34m(\u001b[0m\u001b[0;36m2\u001b[0m\u001b[0;34m,\u001b[0m \u001b[0;36m0\u001b[0m\u001b[0;34m,\u001b[0m \u001b[0;36m1\u001b[0m\u001b[0;34m)\u001b[0m\u001b[0;34m)\u001b[0m\u001b[0;34m\u001b[0m\u001b[0m\n\u001b[1;32m     19\u001b[0m             \u001b[0mimg\u001b[0m \u001b[0;34m=\u001b[0m \u001b[0mimg\u001b[0m\u001b[0;34m[\u001b[0m\u001b[0mnp\u001b[0m\u001b[0;34m.\u001b[0m\u001b[0mnewaxis\u001b[0m\u001b[0;34m,\u001b[0m \u001b[0;34m:\u001b[0m\u001b[0;34m,\u001b[0m \u001b[0;34m:\u001b[0m\u001b[0;34m,\u001b[0m \u001b[0;34m:\u001b[0m\u001b[0;34m]\u001b[0m\u001b[0;34m\u001b[0m\u001b[0m\n\u001b[0;32m---> 20\u001b[0;31m             \u001b[0mout\u001b[0m \u001b[0;34m=\u001b[0m \u001b[0mmain\u001b[0m\u001b[0;34m.\u001b[0m\u001b[0mtest_single\u001b[0m\u001b[0;34m(\u001b[0m\u001b[0mimg\u001b[0m\u001b[0;34m,\u001b[0m \u001b[0mconfig\u001b[0m\u001b[0;34m)\u001b[0m\u001b[0;34m\u001b[0m\u001b[0m\n\u001b[0m\u001b[1;32m     21\u001b[0m \u001b[0;34m\u001b[0m\u001b[0m\n\u001b[1;32m     22\u001b[0m             \u001b[0mcv2\u001b[0m\u001b[0;34m.\u001b[0m\u001b[0mimwrite\u001b[0m\u001b[0;34m(\u001b[0m\u001b[0mfilename\u001b[0m\u001b[0;34m,\u001b[0m \u001b[0;34m(\u001b[0m\u001b[0mnp\u001b[0m\u001b[0;34m.\u001b[0m\u001b[0mtranspose\u001b[0m\u001b[0;34m(\u001b[0m\u001b[0mout\u001b[0m\u001b[0;34m[\u001b[0m\u001b[0;36m0\u001b[0m\u001b[0;34m]\u001b[0m\u001b[0;34m,\u001b[0m \u001b[0;34m(\u001b[0m\u001b[0;36m1\u001b[0m\u001b[0;34m,\u001b[0m \u001b[0;36m2\u001b[0m\u001b[0;34m,\u001b[0m \u001b[0;36m0\u001b[0m\u001b[0;34m)\u001b[0m\u001b[0;34m)\u001b[0m\u001b[0;34m*\u001b[0m\u001b[0;36m255.0\u001b[0m\u001b[0;34m)\u001b[0m\u001b[0;34m.\u001b[0m\u001b[0mastype\u001b[0m\u001b[0;34m(\u001b[0m\u001b[0mnp\u001b[0m\u001b[0;34m.\u001b[0m\u001b[0muint8\u001b[0m\u001b[0;34m)\u001b[0m\u001b[0;34m)\u001b[0m\u001b[0;34m\u001b[0m\u001b[0m\n",
      "\u001b[0;32m/home/susho/git/UG2/main.py\u001b[0m in \u001b[0;36mtest_single\u001b[0;34m(img, config)\u001b[0m\n\u001b[1;32m    139\u001b[0m \u001b[0;34m\u001b[0m\u001b[0m\n\u001b[1;32m    140\u001b[0m         \u001b[0;32mif\u001b[0m \u001b[0mconfig\u001b[0m\u001b[0;34m.\u001b[0m\u001b[0mdata_parallel\u001b[0m\u001b[0;34m:\u001b[0m\u001b[0;34m\u001b[0m\u001b[0m\n\u001b[0;32m--> 141\u001b[0;31m                 \u001b[0mload_model\u001b[0m\u001b[0;34m(\u001b[0m\u001b[0mmodel\u001b[0m\u001b[0;34m,\u001b[0m \u001b[0mconfig\u001b[0m\u001b[0;34m.\u001b[0m\u001b[0mmodel_path\u001b[0m\u001b[0;34m,\u001b[0m \u001b[0mconfig\u001b[0m\u001b[0;34m.\u001b[0m\u001b[0mmodel_name\u001b[0m\u001b[0;34m,\u001b[0m \u001b[0mmode\u001b[0m \u001b[0;34m=\u001b[0m \u001b[0;34m\"parallel\"\u001b[0m\u001b[0;34m)\u001b[0m\u001b[0;34m\u001b[0m\u001b[0m\n\u001b[0m\u001b[1;32m    142\u001b[0m         \u001b[0;32melse\u001b[0m\u001b[0;34m:\u001b[0m\u001b[0;34m\u001b[0m\u001b[0m\n\u001b[1;32m    143\u001b[0m                 \u001b[0mload_model\u001b[0m\u001b[0;34m(\u001b[0m\u001b[0mmodel\u001b[0m\u001b[0;34m,\u001b[0m \u001b[0mconfig\u001b[0m\u001b[0;34m.\u001b[0m\u001b[0mmodel_path\u001b[0m\u001b[0;34m,\u001b[0m \u001b[0mconfig\u001b[0m\u001b[0;34m.\u001b[0m\u001b[0mmodel_name\u001b[0m\u001b[0;34m,\u001b[0m \u001b[0mmode\u001b[0m \u001b[0;34m=\u001b[0m \u001b[0;34m\"single\"\u001b[0m\u001b[0;34m)\u001b[0m\u001b[0;34m\u001b[0m\u001b[0m\n",
      "\u001b[0;32m/home/susho/git/UG2/main.py\u001b[0m in \u001b[0;36mload_model\u001b[0;34m(model, path, name, mode)\u001b[0m\n\u001b[1;32m     37\u001b[0m                         \u001b[0mname\u001b[0m \u001b[0;34m=\u001b[0m \u001b[0mk\u001b[0m\u001b[0;34m\u001b[0m\u001b[0m\n\u001b[1;32m     38\u001b[0m \u001b[0;34m\u001b[0m\u001b[0m\n\u001b[0;32m---> 39\u001b[0;31m                 \u001b[0mnew_state_dict\u001b[0m\u001b[0;34m[\u001b[0m\u001b[0mname\u001b[0m\u001b[0;34m]\u001b[0m \u001b[0;34m=\u001b[0m \u001b[0mv\u001b[0m\u001b[0;34m\u001b[0m\u001b[0m\n\u001b[0m\u001b[1;32m     40\u001b[0m \u001b[0;34m\u001b[0m\u001b[0m\n\u001b[1;32m     41\u001b[0m         \u001b[0mmodel\u001b[0m\u001b[0;34m.\u001b[0m\u001b[0mload_state_dict\u001b[0m\u001b[0;34m(\u001b[0m\u001b[0mnew_state_dict\u001b[0m\u001b[0;34m)\u001b[0m\u001b[0;34m\u001b[0m\u001b[0m\n",
      "\u001b[0;31mTypeError\u001b[0m: 'type' object does not support item assignment"
     ]
    }
   ],
   "source": [
    "trainStartIndex = 0\n",
    "numberCompletedExperiments = 0\n",
    "config = Config()\n",
    "trainStartIndex = 0\n",
    "for i in range(trainStartIndex, len(epochsList)):\n",
    "    for nLR in learningRateList: \n",
    "        for testImageName in testImages:\n",
    "            config.cuda = True\n",
    "            config.data_parallel = True\n",
    "            config.model_path = traindedModels_path\n",
    "            config.model_name = \"modellrRate\"+str(nLR).replace(\".\",\"_\")+\"nEpochs\"+str(epochsList[i])+\"nTK\"+str(nTK)+\".pth\"\n",
    "            print(\"Using model: \"+config.model_name)\n",
    "            config.hist_eq = True\n",
    "            filename = results_path+\"/output\"+testImageName+\"lrRate\"+str(nLR).replace(\".\",\"_\")+\"nEpochs\"+str(epochsList[i-1])+\".png\"\n",
    "            \n",
    "            img_path = \"/mnt/snagesh/ug2challenge/performer-packet/evaluation-images/\"+testImageName+\".jpg\"\n",
    "            img = im.imread(img_path).astype(np.float32)/255.0\n",
    "            img = np.transpose(img, (2, 0, 1))\n",
    "            img = img[np.newaxis, :, :, :]\n",
    "            out = main.test_single(img, config)\n",
    "            \n",
    "            cv2.imwrite(filename, (np.transpose(out[0], (1, 2, 0))*255.0).astype(np.uint8))\n",
    "            numberCompletedExperiments = numberCompletedExperiments+1\n",
    "            print(\"Completed \"+str(numberCompletedExperiments)+\" out of \"+str(numberOfExperiments))\n",
    "            \n",
    "        with h5py.File(os.path.join(validation_data_path, validationDatasetName + \".h5\"),'r') as file:\n",
    "            label = np.array(file[\"label\"])\n",
    "            data  = np.array(file[\"data\"])\n",
    "            for imageIndex in range(1):\n",
    "                testImage    = data[imageIndex]\n",
    "                testImage    = np.transpose(testImage.astype(np.uint8), (1, 2, 0))\n",
    "                plt.figure()\n",
    "                plt.imshow(testImage)\n",
    "                plt.colorbar()\n",
    "                filename     = results_path+\"/validationImage\"+str(imageIndex)+\"lrRate\"+str(nLR).replace(\".\",\"_\")+\"nEpochs\"+str(epochsList[i-1])+\".png\"\n",
    "                cv2.imwrite(filename, (testImage*255.0).astype(np.uint8))\n",
    "\n",
    "                \n",
    "                GTImage    = label[imageIndex]\n",
    "                GTImage    = np.transpose(GTImage.astype(np.uint8), (1, 2, 0))\n",
    "                plt.figure()\n",
    "                plt.imshow(GTImage)\n",
    "                plt.colorbar()\n",
    "                filename     = results_path+\"/validationImageGT\"+str(imageIndex)+\"lrRate\"+str(nLR).replace(\".\",\"_\")+\"nEpochs\"+str(epochsList[i-1])+\".png\"\n",
    "                cv2.imwrite(filename, (GTImage*255.0).astype(np.uint8))\n",
    "\n",
    "                testImage    = np.transpose(testImage, (2, 1, 0))\n",
    "                testImage    = testImage[np.newaxis, :, :, :]\n",
    "                outputImage  = main.test_single(testImage, config)\n",
    "                outputImage  = np.transpose(outputImage[0],(1,2,0))\n",
    "                plt.figure()\n",
    "                plt.imshow(outputImage.astype(np.uint8))\n",
    "                plt.colorbar()\n",
    "                filename     = results_path+\"/validationImageOutput\"+str(imageIndex)+\"lrRate\"+str(nLR).replace(\".\",\"_\")+\"nEpochs\"+str(epochsList[i-1])+\".png\"\n",
    "                cv2.imwrite(filename, outputImage.astype(np.uint8))\n",
    "            print(\"Completed validation images experiment\")\n",
    "            "
   ]
  },
  {
   "cell_type": "code",
   "execution_count": null,
   "metadata": {
    "collapsed": true
   },
   "outputs": [],
   "source": []
  }
 ],
 "metadata": {
  "kernelspec": {
   "display_name": "Python 3",
   "language": "python",
   "name": "python3"
  },
  "language_info": {
   "codemirror_mode": {
    "name": "ipython",
    "version": 3
   },
   "file_extension": ".py",
   "mimetype": "text/x-python",
   "name": "python",
   "nbconvert_exporter": "python",
   "pygments_lexer": "ipython3",
   "version": "3.6.4"
  }
 },
 "nbformat": 4,
 "nbformat_minor": 2
}
