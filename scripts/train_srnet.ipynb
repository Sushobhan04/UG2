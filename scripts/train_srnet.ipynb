{
 "cells": [
  {
   "cell_type": "code",
   "execution_count": 1,
   "metadata": {},
   "outputs": [],
   "source": [
    "%matplotlib inline\n",
    "import h5py\n",
    "import numpy as np\n",
    "import os\n",
    "from UG2.UG2.src.srnet import SRNet, BatchGenerator\n",
    "from UG2.UG2.src import data_utils\n",
    "from UG2.UG2.config import Config\n",
    "import matplotlib.pyplot as plt\n",
    "import torch\n",
    "import torch.nn as nn\n",
    "from torch.autograd import Variable\n",
    "import scipy.ndimage as im\n",
    "import time"
   ]
  },
  {
   "cell_type": "code",
   "execution_count": 2,
   "metadata": {},
   "outputs": [],
   "source": [
    "repo_path = \"/home/susho/git/UG2/\"\n",
    "dataset_path = \"/data/UG2_data/datasets/BSD100_SR\"\n",
    "data_path = \"/data/UG2_data/\"\n",
    "results_path = repo_path + \"results\""
   ]
  },
  {
   "cell_type": "code",
   "execution_count": 3,
   "metadata": {},
   "outputs": [],
   "source": [
    "## create dataset\n",
    "factor = 2\n",
    "num_images = 100\n",
    "patch_size = np.array([64, 64])\n",
    "dataset_name = \"BSD.h5\"\n",
    "\n",
    "# data_utils.create_dataset(factor, num_images, patch_size, dataset_path, data_path, dataset_name)\n",
    "\n",
    "\n"
   ]
  },
  {
   "cell_type": "code",
   "execution_count": 4,
   "metadata": {},
   "outputs": [],
   "source": [
    "config = Config()\n",
    "config.epochs = 100\n",
    "config.cuda = True\n",
    "config.lr = 0.001\n",
    "config.train_files = [os.path.join(data_path, dataset_name)]\n",
    "config.batch_size = 100\n",
    "config.print_step = 5\n",
    "config.checkpoint = 20\n",
    "config.model_save_path = data_path\n",
    "config.model_name = \"model.pth\"\n"
   ]
  },
  {
   "cell_type": "code",
   "execution_count": 5,
   "metadata": {},
   "outputs": [],
   "source": [
    "srnet = SRNet()\n",
    "# srnet1 = nn.DataParallel(srnet)\n",
    "# srnet1.cuda()"
   ]
  },
  {
   "cell_type": "code",
   "execution_count": null,
   "metadata": {},
   "outputs": [],
   "source": [
    "srnet.train(config)\n",
    "\n",
    "# # data = Variable(torch.FloatTensor(np.ones((100,3,100,100)))).cuda()\n",
    "# optimizer = torch.optim.Adam(filter(lambda p: p.requires_grad, srnet.parameters()), lr = config.lr)\n",
    "# loss_fn = nn.MSELoss().cuda()\n",
    "\n",
    "# loss_arr = []\n",
    "# for i in range(config.epochs):\n",
    "#     batch_generator = BatchGenerator(config.train_files, config.batch_size)\n",
    "#     start = time.time()\n",
    "#     for x, y in batch_generator:\n",
    "#         optimizer.zero_grad()\n",
    "\n",
    "#         y_pred = srnet1.forward(x)\n",
    "\n",
    "#         loss = loss_fn(srnet.feature_extractor(y_pred), srnet.feature_extractor(y))\n",
    "#         loss_arr.append(loss.data[0])\n",
    "\n",
    "#         loss.backward()\n",
    "#         optimizer.step()\n",
    "        \n",
    "#     print(time.time() - start)\n",
    "#     print(i)"
   ]
  },
  {
   "cell_type": "code",
   "execution_count": 7,
   "metadata": {},
   "outputs": [
    {
     "data": {
      "text/plain": [
       "2"
      ]
     },
     "execution_count": 7,
     "metadata": {},
     "output_type": "execute_result"
    }
   ],
   "source": [
    "torch.cuda.device_count()"
   ]
  },
  {
   "cell_type": "code",
   "execution_count": 8,
   "metadata": {},
   "outputs": [
    {
     "name": "stdout",
     "output_type": "stream",
     "text": [
      "torch.Size([100, 3, 200, 200])\n"
     ]
    }
   ],
   "source": [
    "print(out.shape)"
   ]
  },
  {
   "cell_type": "code",
   "execution_count": null,
   "metadata": {},
   "outputs": [],
   "source": []
  }
 ],
 "metadata": {
  "kernelspec": {
   "display_name": "Python 3",
   "language": "python",
   "name": "python3"
  },
  "language_info": {
   "codemirror_mode": {
    "name": "ipython",
    "version": 3
   },
   "file_extension": ".py",
   "mimetype": "text/x-python",
   "name": "python",
   "nbconvert_exporter": "python",
   "pygments_lexer": "ipython3",
   "version": "3.6.4"
  }
 },
 "nbformat": 4,
 "nbformat_minor": 2
}
