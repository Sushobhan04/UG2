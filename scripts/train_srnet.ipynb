{
 "cells": [
  {
   "cell_type": "code",
   "execution_count": 1,
   "metadata": {
    "collapsed": true
   },
   "outputs": [],
   "source": [
    "%matplotlib inline\n",
    "import h5py\n",
    "import numpy as np\n",
    "import os\n",
    "from UG2.utils import data as data_utils\n",
    "from UG2.utils import image as image_utils\n",
    "from UG2.config import Config\n",
    "import matplotlib.pyplot as plt\n",
    "import torch\n",
    "import torch.nn as nn\n",
    "from torch.autograd import Variable\n",
    "import scipy.ndimage as im\n",
    "import time\n",
    "from UG2 import main"
   ]
  },
  {
   "cell_type": "code",
   "execution_count": 2,
   "metadata": {
    "collapsed": true
   },
   "outputs": [],
   "source": [
    "data_path            = \"/data/UG2_data/h5Files/\"\n",
    "traindedModels_path  = \"/data/UG2_data/trainedModels/\""
   ]
  },
  {
   "cell_type": "code",
   "execution_count": 3,
   "metadata": {
    "collapsed": true
   },
   "outputs": [],
   "source": [
    "## create blurred-dataset \n",
    "kernel_blurring_flag= True\n",
    "num_files           = 10\n",
    "factor              = 1\n",
    "patch_size          = np.array([224, 224])\n",
    "epochsList          = [50]\n",
    "learningRateList    = [0.01]\n",
    "numberTrainingKernel= [1]\n",
    "flags               = [0,1]\n",
    "numberOfExperiments = len(epochsList)*len(learningRateList)\n",
    "dataset_name        = \"imagenet\"\n",
    "blurSeed            = \"RandomSeed\""
   ]
  },
  {
   "cell_type": "code",
   "execution_count": null,
   "metadata": {
    "scrolled": true
   },
   "outputs": [],
   "source": [
    "os.environ[\"CUDA_VISIBLE_DEVICES\"]=\"1\"\n",
    "trainStartIndex = 0\n",
    "numberCompletedExperiments = 0\n",
    "fileStartIndex  = 1\n",
    "for i in range(trainStartIndex, len(epochsList)):\n",
    "    for nLR in learningRateList:\n",
    "        for nTK in numberTrainingKernel:\n",
    "            config = Config() \n",
    "            config.epochs = epochsList[i]\n",
    "            config.cuda = True\n",
    "            config.data_parallel = False\n",
    "            config.lr = nLR\n",
    "            config.data_path = data_path\n",
    "            config.data_files = []\n",
    "            config.lr_step_list = [10,30]\n",
    "            config.step_decay_param = 0.25\n",
    "            for fileIndex in range(fileStartIndex,num_files+1):\n",
    "                if kernel_blurring_flag:\n",
    "                    \n",
    "                    config.data_files.append(os.path.join(data_path, dataset_name+\"_nTK_\"+str(nTK)+ \"_flag_\" + \"_\".join([str(f) for f in flags])+\"factor\"+str(factor)+\"nFile\"+str(fileIndex)+blurSeed+\".h5\"))\n",
    "                else:        \n",
    "                    config.data_files.append(os.path.join(data_path, dataset_name+\".h5\"))\n",
    "                    \n",
    "            config.batch_size = 30\n",
    "            config.print_step = 1\n",
    "            config.checkpoint = 1\n",
    "            config.exit_loss_window = 5\n",
    "            config.loss_epsilon = 0.01\n",
    "            config.resume_training_flag = False\n",
    "            config.kernel_blurring_flag = False\n",
    "            config.discriminator = \"feat_ext\"\n",
    "            config.factor      = factor\n",
    "            config.img_size    = 64\n",
    "            config.num_workers = 8\n",
    "            config.data_format = \"h5\"\n",
    "            \n",
    "            if i:\n",
    "                config.epochs = epochsList[i]-epochsList[i-1]\n",
    "                config.resume_training_flag = True\n",
    "                config.resume_model_path = traindedModels_path\n",
    "                config.resume_model_name = \"modellrRate\"+str(nLR).replace(\".\",\"_\")+\"nEpochs\"+str(epochsList[i-1])+\".pth\"\n",
    "\n",
    "            config.model_path = traindedModels_path\n",
    "            config.model_name = \"modellrRate\"+str(nLR).replace(\".\",\"_\")+\"nEpochs\"+str(epochsList[i])+\"nTK\"+str(nTK)+\"nFile\"+str(num_files)+blurSeed+\".pth\"\n",
    "            numberCompletedExperiments = numberCompletedExperiments+1\n",
    "            main.train(config)\n",
    "        \n",
    "            print(\"Completed training on file: \"+str(num_files))        "
   ]
  }
 ],
 "metadata": {
  "kernelspec": {
   "display_name": "Python 3",
   "language": "python",
   "name": "python3"
  },
  "language_info": {
   "codemirror_mode": {
    "name": "ipython",
    "version": 3
   },
   "file_extension": ".py",
   "mimetype": "text/x-python",
   "name": "python",
   "nbconvert_exporter": "python",
   "pygments_lexer": "ipython3",
   "version": "3.6.3"
  }
 },
 "nbformat": 4,
 "nbformat_minor": 2
}
