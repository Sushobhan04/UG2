{
 "cells": [
  {
   "cell_type": "code",
   "execution_count": 1,
   "metadata": {
    "collapsed": true
   },
   "outputs": [],
   "source": [
    "%matplotlib inline\n",
    "import h5py\n",
    "import numpy as np\n",
    "import os\n",
    "from UG2.utils import data as data_utils\n",
    "from UG2.utils import image as image_utils\n",
    "from UG2.config import Config\n",
    "import matplotlib.pyplot as plt\n",
    "import torch\n",
    "import torch.nn as nn\n",
    "from torch.autograd import Variable\n",
    "import scipy.ndimage as im\n",
    "import time\n",
    "from UG2 import main"
   ]
  },
  {
   "cell_type": "code",
   "execution_count": 2,
   "metadata": {
    "collapsed": true
   },
   "outputs": [],
   "source": [
    "data_path            = \"/data/UG2_data/h5Files/\"\n",
    "traindedModels_path  = \"/data/UG2_data/trainedModels/\""
   ]
  },
  {
   "cell_type": "code",
   "execution_count": 3,
   "metadata": {
    "collapsed": true
   },
   "outputs": [],
   "source": [
    "## create blurred-dataset \n",
    "kernel_blurring_flag= True\n",
    "num_files           = 10\n",
    "factor              = 1\n",
    "patch_size          = np.array([224, 224])\n",
    "epochsList          = [50]\n",
    "learningRateList    = [0.001]\n",
    "numberTrainingKernel= [1]\n",
    "flags               = [0,1]\n",
    "numberOfExperiments = len(epochsList)*len(learningRateList)\n",
    "dataset_name        = \"imagenet\""
   ]
  },
  {
   "cell_type": "code",
   "execution_count": 4,
   "metadata": {
    "scrolled": true
   },
   "outputs": [
    {
     "name": "stdout",
     "output_type": "stream",
     "text": [
      "time:  29.747249603271484  Error:  1.04325358629\n",
      "saved checkpoint at epoch:  0\n",
      "time:  29.80924153327942  Error:  0.46864510376\n",
      "time:  29.85612440109253  Error:  0.399832420908\n",
      "time:  29.897969007492065  Error:  0.360147234164\n",
      "time:  29.972456693649292  Error:  0.332988003418\n",
      "saved checkpoint at epoch:  20\n",
      "time:  29.88928484916687  Error:  0.314876724593\n",
      "time:  29.84264588356018  Error:  0.301519715879\n",
      "time:  29.65872573852539  Error:  0.292111550421\n",
      "time:  29.672359704971313  Error:  0.283822483588\n",
      "saved checkpoint at epoch:  40\n",
      "time:  29.656681299209595  Error:  0.277311695758\n",
      "Model saved as:  modellrRate0_001nEpochs50nTK1nFile10.pth\n",
      "Completed training on file: 10\n"
     ]
    }
   ],
   "source": [
    "trainStartIndex = 0\n",
    "numberCompletedExperiments = 0\n",
    "fileStartIndex  = 1\n",
    "for i in range(trainStartIndex, len(epochsList)):\n",
    "    for nLR in learningRateList:\n",
    "        for nTK in numberTrainingKernel:\n",
    "            config = Config() \n",
    "            config.epochs = epochsList[i]\n",
    "            config.cuda = True\n",
    "            config.data_parallel = True\n",
    "            config.lr = nLR\n",
    "            config.data_path = data_path\n",
    "            config.data_files = []\n",
    "            for fileIndex in range(fileStartIndex,num_files+1):\n",
    "                if kernel_blurring_flag:\n",
    "                    \n",
    "                    config.data_files.append(os.path.join(data_path, dataset_name+\"_nTK_\"+str(nTK)+ \"_flag_\" + \"_\".join([str(f) for f in flags])+\"factor\"+str(factor)+\"nFile\"+str(fileIndex)+\".h5\"))\n",
    "                else:        \n",
    "                    config.data_files.append(os.path.join(data_path, dataset_name+\".h5\"))\n",
    "                    \n",
    "            config.batch_size = 50\n",
    "            config.print_step = 5\n",
    "            config.checkpoint = 20\n",
    "            config.exit_loss_window = 5\n",
    "            config.loss_epsilon = 0.01\n",
    "            config.resume_training_flag = False\n",
    "            config.kernel_blurring_flag = False\n",
    "            config.discriminator = \"feat_ext\"\n",
    "            config.factor      = factor\n",
    "            config.img_size    = 64\n",
    "            config.num_workers = 8\n",
    "            config.data_format = \"h5\"\n",
    "            \n",
    "            if i:\n",
    "                config.epochs = epochsList[i]-epochsList[i-1]\n",
    "                config.resume_training_flag = True\n",
    "                config.resume_model_path = traindedModels_path\n",
    "                config.resume_model_name = \"modellrRate\"+str(nLR).replace(\".\",\"_\")+\"nEpochs\"+str(epochsList[i-1])+\".pth\"\n",
    "\n",
    "            config.model_path = traindedModels_path\n",
    "            config.model_name = \"modellrRate\"+str(nLR).replace(\".\",\"_\")+\"nEpochs\"+str(epochsList[i])+\"nTK\"+str(nTK)+\"nFile\"+str(num_files)+\".pth\"\n",
    "            numberCompletedExperiments = numberCompletedExperiments+1\n",
    "            main.train(config)\n",
    "        \n",
    "            print(\"Completed training on file: \"+str(num_files))        "
   ]
  },
  {
   "cell_type": "code",
   "execution_count": null,
   "metadata": {
    "collapsed": true
   },
   "outputs": [],
   "source": []
  }
 ],
 "metadata": {
  "kernelspec": {
   "display_name": "Python 3",
   "language": "python",
   "name": "python3"
  },
  "language_info": {
   "codemirror_mode": {
    "name": "ipython",
    "version": 3
   },
   "file_extension": ".py",
   "mimetype": "text/x-python",
   "name": "python",
   "nbconvert_exporter": "python",
   "pygments_lexer": "ipython3",
   "version": "3.6.4"
  }
 },
 "nbformat": 4,
 "nbformat_minor": 2
}
