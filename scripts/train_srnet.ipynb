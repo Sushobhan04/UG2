{
 "cells": [
  {
   "cell_type": "code",
   "execution_count": 1,
   "metadata": {
    "collapsed": true
   },
   "outputs": [],
   "source": [
    "%matplotlib inline\n",
    "import h5py\n",
    "import numpy as np\n",
    "import os\n",
    "from UG2.utils import data as data_utils\n",
    "from UG2.utils import image as image_utils\n",
    "from UG2.config import Config\n",
    "import matplotlib.pyplot as plt\n",
    "import torch\n",
    "import torch.nn as nn\n",
    "from torch.autograd import Variable\n",
    "import scipy.ndimage as im\n",
    "import time\n",
    "from UG2 import main"
   ]
  },
  {
   "cell_type": "code",
   "execution_count": 2,
   "metadata": {
    "collapsed": true
   },
   "outputs": [],
   "source": [
    "data_path            = \"/data/UG2_data/h5Files/\"\n",
    "traindedModels_path  = \"/data/UG2_data/trainedModels/\""
   ]
  },
  {
   "cell_type": "code",
   "execution_count": 7,
   "metadata": {
    "collapsed": true
   },
   "outputs": [],
   "source": [
    "## create blurred-dataset \n",
    "kernel_blurring_flag= True\n",
    "num_images          = 100\n",
    "factor              = 1\n",
    "patch_size          = np.array([64, 64])\n",
    "epochsList          = [700]\n",
    "learningRateList    = [0.001]\n",
    "numberTrainingKernel= [4]\n",
    "flags               = [0,1]\n",
    "numberOfExperiments = len(epochsList)*len(learningRateList)\n",
    "dataset_name        = \"BSDBlurred\""
   ]
  },
  {
   "cell_type": "code",
   "execution_count": 8,
   "metadata": {
    "scrolled": true
   },
   "outputs": [
    {
     "name": "stdout",
     "output_type": "stream",
     "text": [
      "Loading file: ['/data/UG2_data/h5Files/BSDBlurred_nTK_4_flag_0_1factor1nImages100.h5']\n",
      "time:  4.39734148979187  Error:  2.1672413891\n",
      "saved checkpoint at epoch:  0\n",
      "time:  4.177564382553101  Error:  0.467243267731\n",
      "saved checkpoint at epoch:  100\n",
      "time:  4.124566555023193  Error:  0.371595900167\n",
      "saved checkpoint at epoch:  200\n",
      "time:  4.399526119232178  Error:  0.325234251944\n",
      "saved checkpoint at epoch:  300\n",
      "time:  4.411777019500732  Error:  0.279112363403\n",
      "saved checkpoint at epoch:  400\n",
      "time:  4.436954736709595  Error:  0.253594929522\n",
      "saved checkpoint at epoch:  500\n",
      "time:  4.2032856941223145  Error:  0.23548098044\n",
      "saved checkpoint at epoch:  600\n",
      "Model saved as:  modellrRate0_001nEpochs700nTK4factor1nImages100.pth\n",
      "Completed 1 out of 1\n"
     ]
    }
   ],
   "source": [
    "trainStartIndex = 0\n",
    "numberCompletedExperiments = 0\n",
    "for i in range(trainStartIndex, len(epochsList)):\n",
    "    for nLR in learningRateList:\n",
    "        for nTK in numberTrainingKernel:\n",
    "            config = Config() \n",
    "            config.epochs = epochsList[i]\n",
    "            config.cuda = True\n",
    "            config.data_parallel = False\n",
    "            config.lr = nLR\n",
    "            config.data_path = data_path\n",
    "            if kernel_blurring_flag:\n",
    "                config.data_files = [os.path.join(data_path, dataset_name+\"_nTK_\"+str(nTK)+ \"_flag_\" + \"_\".join([str(f) for f in flags])+\"factor\"+str(factor)+\"nImages\"+str(num_images)+\".h5\")]\n",
    "                print(\"Loading file: \"+str(config.data_files))\n",
    "            else:        \n",
    "                config.data_files = [os.path.join(data_path, dataset_name+\".h5\")]\n",
    "                print(\"Loading file: \"+str(config.data_files))\n",
    "            config.batch_size = 50\n",
    "            config.print_step = 100\n",
    "            config.checkpoint = 1\n",
    "            config.exit_loss_window = 5\n",
    "            config.loss_epsilon = 0.01\n",
    "            config.resume_training_flag = False\n",
    "            config.kernel_blurring_flag = False\n",
    "            config.discriminator = \"feat_ext\"\n",
    "            config.factor      = factor\n",
    "            config.img_size    = 64\n",
    "            config.num_workers = 8\n",
    "            config.data_format = \"h5\"\n",
    "            if i:\n",
    "                config.epochs = epochsList[i]-epochsList[i-1]\n",
    "                config.resume_training_flag = False\n",
    "                config.resume_model_path = traindedModels_path\n",
    "                config.resume_model_name = \"modellrRate\"+str(nLR).replace(\".\",\"_\")+\"nEpochs\"+str(epochsList[i-1])+\".pth\"\n",
    "            \n",
    "            config.model_path = traindedModels_path\n",
    "            config.model_name = \"modellrRate\"+str(nLR).replace(\".\",\"_\")+\"nEpochs\"+str(epochsList[i])+\"nTK\"+str(nTK)+\"factor\"+str(factor)+\"nImages\"+str(num_images)+\".pth\"\n",
    "            numberCompletedExperiments = numberCompletedExperiments+1\n",
    "            main.train(config)\n",
    "        \n",
    "            print(\"Completed \"+str(numberCompletedExperiments)+\" out of \"+str(numberOfExperiments))\n",
    "        "
   ]
  },
  {
   "cell_type": "code",
   "execution_count": null,
   "metadata": {
    "collapsed": true
   },
   "outputs": [],
   "source": []
  }
 ],
 "metadata": {
  "kernelspec": {
   "display_name": "Python 3",
   "language": "python",
   "name": "python3"
  },
  "language_info": {
   "codemirror_mode": {
    "name": "ipython",
    "version": 3
   },
   "file_extension": ".py",
   "mimetype": "text/x-python",
   "name": "python",
   "nbconvert_exporter": "python",
   "pygments_lexer": "ipython3",
   "version": "3.6.3"
  }
 },
 "nbformat": 4,
 "nbformat_minor": 2
}
